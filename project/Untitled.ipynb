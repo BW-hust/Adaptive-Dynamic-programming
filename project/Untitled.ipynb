{
 "cells": [
  {
   "cell_type": "code",
   "execution_count": 1,
   "metadata": {
    "collapsed": true
   },
   "outputs": [],
   "source": [
    "import gym\n",
    "env = gym.make('CartPole-v0')"
   ]
  },
  {
   "cell_type": "code",
   "execution_count": 2,
   "metadata": {},
   "outputs": [
    {
     "data": {
      "text/plain": [
       "array([-0.04360532,  0.04794544,  0.00722844, -0.02148522])"
      ]
     },
     "execution_count": 2,
     "metadata": {},
     "output_type": "execute_result"
    }
   ],
   "source": [
    "env.reset()"
   ]
  },
  {
   "cell_type": "code",
   "execution_count": 3,
   "metadata": {},
   "outputs": [
    {
     "data": {
      "text/plain": [
       "True"
      ]
     },
     "execution_count": 3,
     "metadata": {},
     "output_type": "execute_result"
    }
   ],
   "source": [
    "env.render()"
   ]
  },
  {
   "cell_type": "code",
   "execution_count": 4,
   "metadata": {
    "collapsed": true
   },
   "outputs": [],
   "source": [
    "action = env.action_space.sample()"
   ]
  },
  {
   "cell_type": "code",
   "execution_count": 5,
   "metadata": {},
   "outputs": [
    {
     "data": {
      "text/plain": [
       "0"
      ]
     },
     "execution_count": 5,
     "metadata": {},
     "output_type": "execute_result"
    }
   ],
   "source": [
    "action"
   ]
  },
  {
   "cell_type": "code",
   "execution_count": 6,
   "metadata": {
    "collapsed": true
   },
   "outputs": [],
   "source": [
    "observation, reward, done, info = env.step(action)"
   ]
  },
  {
   "cell_type": "code",
   "execution_count": 7,
   "metadata": {},
   "outputs": [
    {
     "data": {
      "text/plain": [
       "array([-0.04264641, -0.14727942,  0.00679873,  0.27346957])"
      ]
     },
     "execution_count": 7,
     "metadata": {},
     "output_type": "execute_result"
    }
   ],
   "source": [
    "observation"
   ]
  },
  {
   "cell_type": "code",
   "execution_count": 8,
   "metadata": {},
   "outputs": [
    {
     "data": {
      "text/plain": [
       "1.0"
      ]
     },
     "execution_count": 8,
     "metadata": {},
     "output_type": "execute_result"
    }
   ],
   "source": [
    "reward"
   ]
  },
  {
   "cell_type": "code",
   "execution_count": 9,
   "metadata": {},
   "outputs": [
    {
     "data": {
      "text/plain": [
       "{}"
      ]
     },
     "execution_count": 9,
     "metadata": {},
     "output_type": "execute_result"
    }
   ],
   "source": [
    "info"
   ]
  },
  {
   "cell_type": "code",
   "execution_count": 10,
   "metadata": {},
   "outputs": [
    {
     "data": {
      "text/plain": [
       "False"
      ]
     },
     "execution_count": 10,
     "metadata": {},
     "output_type": "execute_result"
    }
   ],
   "source": [
    "done"
   ]
  },
  {
   "cell_type": "code",
   "execution_count": 11,
   "metadata": {},
   "outputs": [
    {
     "name": "stdout",
     "output_type": "stream",
     "text": [
      "0\n",
      "\n",
      "observation before : [-0.04264641 -0.14727942  0.00679873  0.27346957]\n",
      "action : 1\n",
      "observation after : [ 0.02174365  0.22456568 -0.01287784 -0.34527741]\n",
      "reward : 1.0\n",
      "done : False\n",
      "1\n",
      "\n",
      "observation before : [ 0.02174365  0.22456568 -0.01287784 -0.34527741]\n",
      "action : 1\n",
      "observation after : [ 0.02623497  0.41986843 -0.01978339 -0.64199323]\n",
      "reward : 1.0\n",
      "done : False\n",
      "2\n",
      "\n",
      "observation before : [ 0.02623497  0.41986843 -0.01978339 -0.64199323]\n",
      "action : 0\n",
      "observation after : [ 0.03463233  0.22502775 -0.03262326 -0.35560534]\n",
      "reward : 1.0\n",
      "done : False\n",
      "3\n",
      "\n",
      "observation before : [ 0.03463233  0.22502775 -0.03262326 -0.35560534]\n",
      "action : 1\n",
      "observation after : [ 0.03913289  0.42059799 -0.03973536 -0.65839414]\n",
      "reward : 1.0\n",
      "done : False\n",
      "4\n",
      "\n",
      "observation before : [ 0.03913289  0.42059799 -0.03973536 -0.65839414]\n",
      "action : 1\n",
      "observation after : [ 0.04754485  0.61624981 -0.05290325 -0.96331934]\n",
      "reward : 1.0\n",
      "done : False\n",
      "5\n",
      "\n",
      "observation before : [ 0.04754485  0.61624981 -0.05290325 -0.96331934]\n",
      "action : 1\n",
      "observation after : [ 0.05986985  0.81204112 -0.07216963 -1.27214173]\n",
      "reward : 1.0\n",
      "done : False\n",
      "6\n",
      "\n",
      "observation before : [ 0.05986985  0.81204112 -0.07216963 -1.27214173]\n",
      "action : 1\n",
      "observation after : [ 0.07611067  1.0080061  -0.09761247 -1.58652348]\n",
      "reward : 1.0\n",
      "done : False\n",
      "7\n",
      "\n",
      "observation before : [ 0.07611067  1.0080061  -0.09761247 -1.58652348]\n",
      "action : 1\n",
      "observation after : [ 0.09627079  1.20414345 -0.12934294 -1.9079815 ]\n",
      "reward : 1.0\n",
      "done : False\n",
      "8\n",
      "\n",
      "observation before : [ 0.09627079  1.20414345 -0.12934294 -1.9079815 ]\n",
      "action : 1\n",
      "observation after : [ 0.12035366  1.40040275 -0.16750257 -2.23783226]\n",
      "reward : 1.0\n",
      "done : False\n",
      "9\n",
      "\n",
      "observation before : [ 0.12035366  1.40040275 -0.16750257 -2.23783226]\n",
      "action : 1\n",
      "observation after : [ 0.14836171  1.59666852 -0.21225921 -2.57712638]\n",
      "reward : 1.0\n",
      "done : True\n"
     ]
    }
   ],
   "source": [
    "env.reset()\n",
    "for t in range(100):\n",
    "    print(\"%d\\n\"%t)\n",
    "    env.render()\n",
    "    print(\"observation before :\",observation)\n",
    "    action = env.action_space.sample()\n",
    "    print(\"action :\",action)\n",
    "    observation, reward, done, info = env.step(action)\n",
    "    print(\"observation after :\",observation)\n",
    "    print(\"reward :\",reward)\n",
    "    print(\"done :\",done)\n",
    "    if done:\n",
    "        break"
   ]
  },
  {
   "cell_type": "code",
   "execution_count": null,
   "metadata": {
    "collapsed": true
   },
   "outputs": [],
   "source": []
  }
 ],
 "metadata": {
  "kernelspec": {
   "display_name": "Python 3",
   "language": "python",
   "name": "python3"
  },
  "language_info": {
   "codemirror_mode": {
    "name": "ipython",
    "version": 3
   },
   "file_extension": ".py",
   "mimetype": "text/x-python",
   "name": "python",
   "nbconvert_exporter": "python",
   "pygments_lexer": "ipython3",
   "version": "3.6.1"
  }
 },
 "nbformat": 4,
 "nbformat_minor": 2
}
